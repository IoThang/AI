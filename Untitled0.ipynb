{
  "nbformat": 4,
  "nbformat_minor": 0,
  "metadata": {
    "colab": {
      "provenance": [],
      "authorship_tag": "ABX9TyOzXD7wLAu5HZZXWjr0z36T",
      "include_colab_link": true
    },
    "kernelspec": {
      "name": "python3",
      "display_name": "Python 3"
    },
    "language_info": {
      "name": "python"
    }
  },
  "cells": [
    {
      "cell_type": "markdown",
      "metadata": {
        "id": "view-in-github",
        "colab_type": "text"
      },
      "source": [
        "<a href=\"https://colab.research.google.com/github/IoThang/AI/blob/main/Untitled0.ipynb\" target=\"_parent\"><img src=\"https://colab.research.google.com/assets/colab-badge.svg\" alt=\"Open In Colab\"/></a>"
      ]
    },
    {
      "cell_type": "code",
      "execution_count": null,
      "metadata": {
        "id": "QkmO7AIY1HKS"
      },
      "outputs": [],
      "source": [
        "with open('text.txt', mode = 'w') as accounts:\n",
        "  accounts.write('20145196 A 10\\n')\n",
        "  accounts.write('20145197 B 6\\n')\n",
        "  accounts.write('20145198 C 8\\n')\n",
        "\n",
        "  print('20145191 D 7', file = accounts)\n",
        "  print('20145192 E 9', file = accounts)\n",
        "  print('20145193 F 15', file = accounts)\n"
      ]
    },
    {
      "cell_type": "code",
      "source": [
        "with open('text.txt', mode = 'r') as accounts:\n",
        "  print(f''{'MSSV': < 10}{'Name': < 2.0}{'Score': > 2}'')\n",
        "  for record in accounts:\n",
        "    MSSV,Name, Score = record.split()\n",
        "      print(f''{'MSSV': < 10}{'Name': < 2.0}{'Score': > 2}'')\n"
      ],
      "metadata": {
        "colab": {
          "base_uri": "https://localhost:8080/",
          "height": 130
        },
        "id": "Ys-37xcV6NQ7",
        "outputId": "caa6fd19-9b60-4a27-a856-acc09ac7083d"
      },
      "execution_count": null,
      "outputs": [
        {
          "output_type": "error",
          "ename": "SyntaxError",
          "evalue": "ignored",
          "traceback": [
            "\u001b[0;36m  File \u001b[0;32m\"<ipython-input-12-8223e437aae2>\"\u001b[0;36m, line \u001b[0;32m2\u001b[0m\n\u001b[0;31m    print(f''{'MSSV': < 10}{'Name': < 2.0}{'Score': > 2}'')\u001b[0m\n\u001b[0m             ^\u001b[0m\n\u001b[0;31mSyntaxError\u001b[0m\u001b[0;31m:\u001b[0m invalid syntax\n"
          ]
        }
      ]
    },
    {
      "cell_type": "code",
      "source": [
        "import pandas as pd\n",
        "url = 'list.csv'\n",
        "dataframe = pd.read_csv(url)\n",
        "# dataframe.head(20)\n",
        "# dataframe.iloc[10:]\n",
        "\n",
        "# dataframe = dataframe.set_index(dataframe['A'])\n",
        "# dataframe.loc['B']\n"
      ],
      "metadata": {
        "colab": {
          "base_uri": "https://localhost:8080/"
        },
        "id": "zdcWrQrV-jIl",
        "outputId": "0be2fc1f-a3eb-4acf-84ea-b2848e10ea0d"
      },
      "execution_count": 25,
      "outputs": [
        {
          "output_type": "execute_result",
          "data": {
            "text/plain": [
              "1                  2\n",
              "20145196    19146189\n",
              "A                  B\n",
              "CKM              DDT\n",
              "9                7.0\n",
              "Name: B, dtype: object"
            ]
          },
          "metadata": {},
          "execution_count": 25
        }
      ]
    },
    {
      "cell_type": "code",
      "source": [
        "import pandas as pd\n",
        "url = 'list.csv'\n",
        "dataframe = pd.read_csv(url)\n",
        "\n",
        "# dataframe.head(20)\n",
        "# dataframe.iloc[10:]\n",
        "\n",
        "# dataframe = dataframe.set_index(dataframe['NAME'])\n",
        "# dataframe.loc['B']\n",
        "\n",
        "# dataframe[dataframe['FAL'] == 'DDT'].head(10)\n",
        "\n",
        "# dataframe[(dataframe['FAL'] == 'CKM') & (dataframe['NAME'] == 'H')]\n",
        "\n",
        "# dataframe['FAL'].replace('DDT', 'D-DT').head(10)\n",
        "# dataframe.replace('DDT', 'D-DT').head(10)\n",
        "\n",
        "# print('Highest score: ', dataframe[])\n",
        "\n",
        "# Dem bao nhieu khoa khac nhau\n",
        "# dataframe['FAL'].unique()\n",
        "\n",
        "# Dem bao nhieu so luong khoa lap lai\n",
        "# dataframe['FAL'].value_counts()\n",
        "\n",
        "# Xoa 1 cot (1 truong)\n",
        "# dataframe.drop('MSSV', axis = 1).head(10)\n",
        "\n",
        "#Xoa nhieu cot\n",
        "# dataframe.drop(['MSSV', 'FAL'], axis = 1).head(10)\n",
        "\n",
        "# Xoa cot theo index \n",
        "# dataframe.drop(dataframe.columns[2:4], axis = 1).head(10)\n",
        "\n",
        "# Xoa hang theo khoa\n",
        "# dataframe[dataframe['FAL'] != 'CKM'].head(10)\n",
        "\n",
        "#Xoa hang theo diem\n",
        "# dataframe[dataframe['SCORE'] != 5].head(10)\n",
        "\n",
        "#Xoa hang theo index\n",
        "# dataframe[dataframe.index != 4]. head(10)\n",
        "\n",
        "#Xoa hang giong nhau het\n",
        "# dataframe.drop_duplicates().head(10)\n",
        "\n",
        "#Gop hang\n",
        "dataframe.groupby('FAL').count()\n",
        "dataframe.groupby(['FAL', 'SCORE']).count()"
      ],
      "metadata": {
        "id": "C92PafxiEiqF"
      },
      "execution_count": null,
      "outputs": []
    },
    {
      "cell_type": "code",
      "source": [
        "import pandas as pd\n",
        "import numpy as np\n",
        "time_index = pd.date_range('01/01/2023', periods = 100000, freq = '30S')\n",
        "dataframe = pd.DataFrame(index = time_index)\n",
        "dataframe['Acess_Amount'] = np.random.randint(1, 10, 100000)\n",
        "# Lay mau 1 tuan\n",
        "dataframe.resample('W').sum()\n",
        "\n",
        "#Lay mau 2 tuan\n",
        "# dataframe.resample('2W').mem()\n",
        "# dataframe.resample('M').mem()\n"
      ],
      "metadata": {
        "id": "Ohhjp5v0M3oc"
      },
      "execution_count": null,
      "outputs": []
    },
    {
      "cell_type": "code",
      "source": [
        "import pandas as pd\n",
        "url = 'http://winterolympicsmedals.com/medals.csv'\n",
        "dataframe = pd.read_csv(url)\n",
        "\n",
        "# Dem so huy chuong cua cac nuoc\n",
        "dataframe['NOC'].value_counts()\n",
        "\n",
        "# Dem HCV cua USA\n",
        "dataframe[(dataframe['NOC'] == 'USA') & (dataframe['Medal'] == 'Gold')].drop(dataframe.columns[0:7],axis=1).count()\n",
        "\n",
        "# Huy chuong vang cho USA\n",
        "dataframe[(dataframe['NOC'] == 'USA') & (dataframe['Medal'] == 'Gold')]\n",
        "\n",
        "\n"
      ],
      "metadata": {
        "colab": {
          "base_uri": "https://localhost:8080/"
        },
        "id": "yvdEwGmuUUFM",
        "outputId": "0469c3a1-2912-479b-f168-5e6e45fb28b3"
      },
      "execution_count": 69,
      "outputs": [
        {
          "output_type": "execute_result",
          "data": {
            "text/plain": [
              "Medal    78\n",
              "dtype: int64"
            ]
          },
          "metadata": {},
          "execution_count": 69
        }
      ]
    }
  ]
}